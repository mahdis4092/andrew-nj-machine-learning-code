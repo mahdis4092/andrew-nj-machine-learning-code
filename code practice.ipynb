{
 "cells": [
  {
   "cell_type": "code",
   "execution_count": 4,
   "id": "3ecfdd53",
   "metadata": {},
   "outputs": [
    {
     "ename": "AttributeError",
     "evalue": "'list' object has no attribute 'shape'",
     "output_type": "error",
     "traceback": [
      "\u001b[1;31m---------------------------------------------------------------------------\u001b[0m",
      "\u001b[1;31mAttributeError\u001b[0m                            Traceback (most recent call last)",
      "Input \u001b[1;32mIn [4]\u001b[0m, in \u001b[0;36m<cell line: 11>\u001b[1;34m()\u001b[0m\n\u001b[0;32m      9\u001b[0m         f_wb[i]\u001b[38;5;241m=\u001b[39mw\u001b[38;5;241m*\u001b[39mx[i]\u001b[38;5;241m+\u001b[39mb\n\u001b[0;32m     10\u001b[0m     \u001b[38;5;28;01mreturn\u001b[39;00m f_wb\n\u001b[1;32m---> 11\u001b[0m tmp_f_wb \u001b[38;5;241m=\u001b[39m \u001b[43mCompute_model_output\u001b[49m\u001b[43m(\u001b[49m\u001b[43mx_train\u001b[49m\u001b[43m,\u001b[49m\u001b[43mw\u001b[49m\u001b[43m,\u001b[49m\u001b[43mb\u001b[49m\u001b[43m)\u001b[49m\n\u001b[0;32m     12\u001b[0m \u001b[38;5;28mprint\u001b[39m(tmp_f_wb)\n",
      "Input \u001b[1;32mIn [4]\u001b[0m, in \u001b[0;36mCompute_model_output\u001b[1;34m(x, w, b)\u001b[0m\n\u001b[0;32m      5\u001b[0m \u001b[38;5;28;01mdef\u001b[39;00m \u001b[38;5;21mCompute_model_output\u001b[39m(x,w,b):\n\u001b[1;32m----> 6\u001b[0m     m\u001b[38;5;241m=\u001b[39m\u001b[43mx\u001b[49m\u001b[38;5;241;43m.\u001b[39;49m\u001b[43mshape\u001b[49m[\u001b[38;5;241m0\u001b[39m]\n\u001b[0;32m      7\u001b[0m     f_wb\u001b[38;5;241m=\u001b[39mnp\u001b[38;5;241m.\u001b[39mzeros(m)\n\u001b[0;32m      8\u001b[0m     \u001b[38;5;28;01mfor\u001b[39;00m i \u001b[38;5;129;01min\u001b[39;00m \u001b[38;5;28mrange\u001b[39m(m):\n",
      "\u001b[1;31mAttributeError\u001b[0m: 'list' object has no attribute 'shape'"
     ]
    }
   ],
   "source": [
    "import numpy as np\n",
    "x_train =[1.0,2.0]\n",
    "w=100\n",
    "b=100\n",
    "def Compute_model_output(x,w,b):\n",
    "    m=x.shape[0]\n",
    "    f_wb=np.zeros(m)\n",
    "    for i in range(m):\n",
    "        f_wb[i]=w*x[i]+b\n",
    "    return f_wb\n",
    "tmp_f_wb = Compute_model_output(x_train,w,b)\n",
    "print(tmp_f_wb)"
   ]
  },
  {
   "cell_type": "code",
   "execution_count": null,
   "id": "10744e0a",
   "metadata": {},
   "outputs": [],
   "source": []
  }
 ],
 "metadata": {
  "kernelspec": {
   "display_name": "Python 3 (ipykernel)",
   "language": "python",
   "name": "python3"
  },
  "language_info": {
   "codemirror_mode": {
    "name": "ipython",
    "version": 3
   },
   "file_extension": ".py",
   "mimetype": "text/x-python",
   "name": "python",
   "nbconvert_exporter": "python",
   "pygments_lexer": "ipython3",
   "version": "3.9.12"
  }
 },
 "nbformat": 4,
 "nbformat_minor": 5
}
