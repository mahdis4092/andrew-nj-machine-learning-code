{
 "cells": [
  {
   "cell_type": "code",
   "execution_count": 1,
   "id": "e74ee290",
   "metadata": {},
   "outputs": [],
   "source": [
    "import numpy as np\n",
    "import matplotlib.pyplot as plt\n"
   ]
  },
  {
   "cell_type": "markdown",
   "id": "1b239e7d",
   "metadata": {},
   "source": [
    "create your x_train and y_train variables. The data is stored in one-dimensional NumPy arrays\n",
    "dataset\n",
    "(size in 1000 square feet)(price in 1000s of dollars)\n",
    "           1.0                     300\n",
    "           2.0                     500\n",
    "        "
   ]
  },
  {
   "cell_type": "code",
   "execution_count": 2,
   "id": "0338f3dd",
   "metadata": {},
   "outputs": [
    {
     "name": "stdout",
     "output_type": "stream",
     "text": [
      "x_train = [1. 2.]\n",
      "y_train = [300 500]\n"
     ]
    }
   ],
   "source": [
    "# x_train is the input variable (size in 1000 square feet)\n",
    "# y_train is the target (price in 1000s of dollars)\n",
    "x_train=np.array([1.0,2.0])\n",
    "y_train=np.array([300,500])\n",
    "print(f\"x_train = {x_train}\")\n",
    "print(f\"y_train = {y_train}\")"
   ]
  },
  {
   "cell_type": "markdown",
   "id": "3dc8d946",
   "metadata": {},
   "source": [
    "m to denote the number of training examples. Numpy arrays have a .shape parameter. x_train.shape returns a python tuple with an entry for each dimension. x_train.shape[0] is the length of the array and number of examples as shown below.\n",
    "One can also use the Python len() function as shown below."
   ]
  },
  {
   "cell_type": "code",
   "execution_count": 3,
   "id": "b60149d3",
   "metadata": {},
   "outputs": [
    {
     "name": "stdout",
     "output_type": "stream",
     "text": [
      "x_train.shape: (2,)\n",
      "Number of training examples is: 2\n"
     ]
    }
   ],
   "source": [
    "# m is the number of training examples\n",
    "print(f\"x_train.shape: {x_train.shape}\")\n",
    "#x_train.shape[0]=2 and x_train.shape[1]=none\n",
    "m = x_train.shape[0]\n",
    "print(f\"Number of training examples is: {m}\")"
   ]
  },
  {
   "cell_type": "code",
   "execution_count": 4,
   "id": "6b2c3f86",
   "metadata": {},
   "outputs": [
    {
     "name": "stdout",
     "output_type": "stream",
     "text": [
      "Number of training examples is :2\n"
     ]
    }
   ],
   "source": [
    "m=len(x_train)\n",
    "print(f\"Number of training examples is :{m}\")"
   ]
  },
  {
   "cell_type": "markdown",
   "id": "d09aa6b7",
   "metadata": {},
   "source": [
    "Training example x_i, y_i\n",
    "You will use (x (𝑖), y (𝑖)) to denote the  𝑖𝑡ℎ training example.\n",
    "To access a value in a Numpy array, one indexes the array with the desired offset. For example the syntax to access location zero of x_train is x_train[0]. Run the next code block below to get the  𝑖𝑡ℎ\n",
    "  training example\n",
    "  "
   ]
  },
  {
   "cell_type": "code",
   "execution_count": 5,
   "id": "bf4db208",
   "metadata": {},
   "outputs": [
    {
     "name": "stdout",
     "output_type": "stream",
     "text": [
      "(x^0,y^0)= (1.0,300)\n"
     ]
    }
   ],
   "source": [
    "i=0\n",
    "x_i=x_train[0]\n",
    "y_i=y_train[0]\n",
    "print(f\"(x^{i},y^{i})= ({x_i},{y_i})\")"
   ]
  },
  {
   "cell_type": "markdown",
   "id": "50c7dfad",
   "metadata": {},
   "source": [
    "plot these two points using the scatter() function in the matplotlib library"
   ]
  },
  {
   "cell_type": "code",
   "execution_count": 6,
   "id": "eed23e8a",
   "metadata": {},
   "outputs": [
    {
     "data": {
      "image/png": "[encoded data removed]",
      "text/plain": [
       "<Figure size 432x288 with 1 Axes>"
      ]
     },
     "metadata": {
      "needs_background": "light"
     },
     "output_type": "display_data"
    }
   ],
   "source": [
    "plt.scatter(x_train,y_train,marker='x',c='r')\n",
    "plt.title(\"House Price Prediction\")\n",
    "plt.xlabel(\"size in 1000 square feet\")\n",
    "plt.ylabel(\"price in 1000s of dollars\")\n",
    "plt.show()"
   ]
  },
  {
   "cell_type": "markdown",
   "id": "e6bc35c5",
   "metadata": {},
   "source": [
    "As described in lecture, the model function for linear regression (which is a function that maps from x to y) is represented as\n",
    "\n",
    "𝑓𝑤,𝑏(𝑥(𝑖))=𝑤𝑥(𝑖)+𝑏(1)\n",
    "The formula above is how you can represent straight lines - different values of  𝑤 and  𝑏 give you different straight lines on the plot.\n",
    "Let's try to get a better intuition for this through the code blocks below. Let's start with  𝑤=100 and  𝑏=100\n",
    " .\n",
    "Note: You can come back to this cell to adjust the model's w and b parameters"
   ]
  },
  {
   "cell_type": "code",
   "execution_count": 14,
   "id": "669e7558",
   "metadata": {},
   "outputs": [
    {
     "name": "stdout",
     "output_type": "stream",
     "text": [
      "w: 100\n",
      "b: 100\n"
     ]
    }
   ],
   "source": [
    "w = 100\n",
    "b = 100\n",
    "print(f\"w: {w}\")\n",
    "print(f\"b: {b}\")"
   ]
  },
  {
   "cell_type": "markdown",
   "id": "b149e62d",
   "metadata": {},
   "source": [
    "Now, let's compute the value of  𝑓𝑤,𝑏(𝑥(𝑖))\n",
    "  for your two data points. You can explicitly write this out for each data point as -\n",
    "\n",
    "for  𝑥(0)\n",
    " , f_wb = w * x[0] + b\n",
    "\n",
    "for  𝑥(1)\n",
    " , f_wb = w * x[1] + b\n",
    "\n",
    "For a large number of data points, this can get unwieldy and repetitive. So instead, you can calculate the function output in a for loop as shown in the compute_model_output function below."
   ]
  },
  {
   "cell_type": "code",
   "execution_count": 15,
   "id": "ba47b731",
   "metadata": {},
   "outputs": [],
   "source": [
    "def compute_model_output(x, w, b):\n",
    "    \"\"\"\n",
    "    Computes the prediction of a linear model\n",
    "    Args:\n",
    "      x (ndarray (m,)): Data, m examples \n",
    "      w,b (scalar)    : model parameters  \n",
    "    Returns\n",
    "      f_wb (ndarray (m,)): model prediction\n",
    "    \"\"\"\n",
    "    m = x.shape[0]\n",
    "    f_wb = np.zeros(m)\n",
    "    for i in range(m):\n",
    "        f_wb[i] = w * x[i] + b\n",
    "        \n",
    "    return f_wb"
   ]
  },
  {
   "cell_type": "code",
   "execution_count": 16,
   "id": "6aa4e882",
   "metadata": {},
   "outputs": [
    {
     "name": "stdout",
     "output_type": "stream",
     "text": [
      "[200. 300.]\n"
     ]
    },
    {
     "data": {
      "image/png": "[encoded data removed]",
      "text/plain": [
       "<Figure size 432x288 with 1 Axes>"
      ]
     },
     "metadata": {
      "needs_background": "light"
     },
     "output_type": "display_data"
    }
   ],
   "source": [
    "tmp_f_wb = compute_model_output(x_train, w, b)\n",
    "print(tmp_f_wb )\n",
    "\n",
    "# Plot our model prediction\n",
    "plt.plot(x_train, tmp_f_wb, c='b',label='Our Prediction')\n",
    "\n",
    "# Plot the data points\n",
    "plt.scatter(x_train, y_train, marker='x', c='r',label='Actual Values')\n",
    "\n",
    "# Set the title\n",
    "plt.title(\"Housing Prices\")\n",
    "# Set the y-axis label\n",
    "plt.ylabel('Price (in 1000s of dollars)')\n",
    "# Set the x-axis label\n",
    "plt.xlabel('Size (1000 sqft)')\n",
    "plt.legend()\n",
    "plt.show()"
   ]
  },
  {
   "cell_type": "code",
   "execution_count": 15,
   "id": "65463851",
   "metadata": {},
   "outputs": [
    {
     "name": "stdout",
     "output_type": "stream",
     "text": [
      "$340.0 thousand dollars\n"
     ]
    }
   ],
   "source": [
    "w = 200                         \n",
    "b = 100    \n",
    "x_i = 1.2\n",
    "cost_1200sqft = w * x_i + b    \n",
    "\n",
    "print(f\"${cost_1200sqft} thousand dollars\")"
   ]
  },
  {
   "cell_type": "code",
   "execution_count": null,
   "id": "77d0f6eb",
   "metadata": {},
   "outputs": [],
   "source": []
  }
 ],
 "metadata": {
  "kernelspec": {
   "display_name": "Python 3 (ipykernel)",
   "language": "python",
   "name": "python3"
  },
  "language_info": {
   "codemirror_mode": {
    "name": "ipython",
    "version": 3
   },
   "file_extension": ".py",
   "mimetype": "text/x-python",
   "name": "python",
   "nbconvert_exporter": "python",
   "pygments_lexer": "ipython3",
   "version": "3.9.12"
  }
 },
 "nbformat": 4,
 "nbformat_minor": 5
}
